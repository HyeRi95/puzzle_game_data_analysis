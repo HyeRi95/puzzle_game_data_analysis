{
 "cells": [
  {
   "cell_type": "markdown",
   "metadata": {},
   "source": [
    "#### 특정 레벨에서의 게이트 위치 변경(레벨 30 vs. 레벨 40)이유저의 플레이 행동 및 유지율(retention)에 미치는 영향 분석\n",
    "\n",
    "- userid : 유저 아이디\n",
    "- version : A/B 테스트를 위한 조건 (gate_30 : 게이트 위치가 30 레벨에 있는 집단 , gate_40 : 게이트 위치가 40 레벨에 있는 집단)\n",
    "- sum_gamerounds : 14일 동안 플레이한 게임 라운드 수 \n",
    "- retention_1 : 게임을 설치한 유저가 1일 후 (다음날)에도 게임을 했는지 여부\n",
    "- retention_7 : 게임을 설치한 유저가 7일 후에도 게임을 접속했는지 여부 "
   ]
  },
  {
   "cell_type": "code",
   "execution_count": 1,
   "metadata": {},
   "outputs": [
    {
     "data": {
      "text/html": [
       "<div>\n",
       "<style scoped>\n",
       "    .dataframe tbody tr th:only-of-type {\n",
       "        vertical-align: middle;\n",
       "    }\n",
       "\n",
       "    .dataframe tbody tr th {\n",
       "        vertical-align: top;\n",
       "    }\n",
       "\n",
       "    .dataframe thead th {\n",
       "        text-align: right;\n",
       "    }\n",
       "</style>\n",
       "<table border=\"1\" class=\"dataframe\">\n",
       "  <thead>\n",
       "    <tr style=\"text-align: right;\">\n",
       "      <th></th>\n",
       "      <th>userid</th>\n",
       "      <th>version</th>\n",
       "      <th>sum_gamerounds</th>\n",
       "      <th>retention_1</th>\n",
       "      <th>retention_7</th>\n",
       "    </tr>\n",
       "  </thead>\n",
       "  <tbody>\n",
       "    <tr>\n",
       "      <th>0</th>\n",
       "      <td>116</td>\n",
       "      <td>gate_30</td>\n",
       "      <td>3</td>\n",
       "      <td>False</td>\n",
       "      <td>False</td>\n",
       "    </tr>\n",
       "    <tr>\n",
       "      <th>1</th>\n",
       "      <td>337</td>\n",
       "      <td>gate_30</td>\n",
       "      <td>38</td>\n",
       "      <td>True</td>\n",
       "      <td>False</td>\n",
       "    </tr>\n",
       "    <tr>\n",
       "      <th>2</th>\n",
       "      <td>377</td>\n",
       "      <td>gate_40</td>\n",
       "      <td>165</td>\n",
       "      <td>True</td>\n",
       "      <td>False</td>\n",
       "    </tr>\n",
       "    <tr>\n",
       "      <th>3</th>\n",
       "      <td>483</td>\n",
       "      <td>gate_40</td>\n",
       "      <td>1</td>\n",
       "      <td>False</td>\n",
       "      <td>False</td>\n",
       "    </tr>\n",
       "    <tr>\n",
       "      <th>4</th>\n",
       "      <td>488</td>\n",
       "      <td>gate_40</td>\n",
       "      <td>179</td>\n",
       "      <td>True</td>\n",
       "      <td>True</td>\n",
       "    </tr>\n",
       "  </tbody>\n",
       "</table>\n",
       "</div>"
      ],
      "text/plain": [
       "   userid  version  sum_gamerounds  retention_1  retention_7\n",
       "0     116  gate_30               3        False        False\n",
       "1     337  gate_30              38         True        False\n",
       "2     377  gate_40             165         True        False\n",
       "3     483  gate_40               1        False        False\n",
       "4     488  gate_40             179         True         True"
      ]
     },
     "execution_count": 1,
     "metadata": {},
     "output_type": "execute_result"
    }
   ],
   "source": [
    "import pandas as pd \n",
    "import numpy as np \n",
    "\n",
    "df = pd.read_csv('cookie_cats.csv')\n",
    "df.head()"
   ]
  },
  {
   "cell_type": "code",
   "execution_count": 2,
   "metadata": {},
   "outputs": [
    {
     "data": {
      "text/plain": [
       "count    90189.000000\n",
       "mean        51.872457\n",
       "std        195.050858\n",
       "min          0.000000\n",
       "25%          5.000000\n",
       "50%         16.000000\n",
       "75%         51.000000\n",
       "max      49854.000000\n",
       "Name: sum_gamerounds, dtype: float64"
      ]
     },
     "execution_count": 2,
     "metadata": {},
     "output_type": "execute_result"
    }
   ],
   "source": [
    "df_cp = df.copy()\n",
    "df_cp['sum_gamerounds'].describe()"
   ]
  },
  {
   "cell_type": "code",
   "execution_count": 3,
   "metadata": {},
   "outputs": [
    {
     "data": {
      "text/plain": [
       "57702    49854\n",
       "7912      2961\n",
       "29417     2640\n",
       "43671     2438\n",
       "48188     2294\n",
       "         ...  \n",
       "59687        0\n",
       "23707        0\n",
       "59670        0\n",
       "59645        0\n",
       "45094        0\n",
       "Name: sum_gamerounds, Length: 90189, dtype: int64"
      ]
     },
     "execution_count": 3,
     "metadata": {},
     "output_type": "execute_result"
    }
   ],
   "source": [
    "df_cp['sum_gamerounds'].sort_values(ascending=False)"
   ]
  },
  {
   "cell_type": "code",
   "execution_count": 4,
   "metadata": {},
   "outputs": [
    {
     "data": {
      "text/plain": [
       "<AxesSubplot:>"
      ]
     },
     "execution_count": 4,
     "metadata": {},
     "output_type": "execute_result"
    },
    {
     "data": {
      "image/png": "[encoded data removed]",
      "text/plain": [
       "<Figure size 576x1080 with 1 Axes>"
      ]
     },
     "metadata": {
      "needs_background": "light"
     },
     "output_type": "display_data"
    }
   ],
   "source": [
    "import seaborn as sns\n",
    "import matplotlib.pyplot as plt \n",
    "\n",
    "plt.figure(figsize=(8,15))\n",
    "sns.boxplot(data = df_cp['sum_gamerounds'])"
   ]
  },
  {
   "cell_type": "code",
   "execution_count": 5,
   "metadata": {},
   "outputs": [
    {
     "data": {
      "text/plain": [
       "array(['gate_30', 'gate_40'], dtype=object)"
      ]
     },
     "execution_count": 5,
     "metadata": {},
     "output_type": "execute_result"
    }
   ],
   "source": [
    "df_cp['version'].unique()"
   ]
  },
  {
   "cell_type": "code",
   "execution_count": 6,
   "metadata": {},
   "outputs": [
    {
     "data": {
      "text/plain": [
       "0"
      ]
     },
     "execution_count": 6,
     "metadata": {},
     "output_type": "execute_result"
    }
   ],
   "source": [
    "df_cp['version'].isnull().sum()"
   ]
  },
  {
   "cell_type": "code",
   "execution_count": 7,
   "metadata": {},
   "outputs": [
    {
     "data": {
      "text/plain": [
       "count    90189.000000\n",
       "mean        51.872457\n",
       "std        195.050858\n",
       "min          0.000000\n",
       "25%          5.000000\n",
       "50%         16.000000\n",
       "75%         51.000000\n",
       "max      49854.000000\n",
       "Name: sum_gamerounds, dtype: float64"
      ]
     },
     "execution_count": 7,
     "metadata": {},
     "output_type": "execute_result"
    }
   ],
   "source": [
    "df_cp['sum_gamerounds'].describe()"
   ]
  },
  {
   "cell_type": "code",
   "execution_count": 8,
   "metadata": {},
   "outputs": [
    {
     "data": {
      "text/plain": [
       "46437"
      ]
     },
     "execution_count": 8,
     "metadata": {},
     "output_type": "execute_result"
    }
   ],
   "source": [
    "len(df_cp[(df_cp['retention_1']==0)&(df_cp['retention_7']==0)])"
   ]
  },
  {
   "cell_type": "code",
   "execution_count": 9,
   "metadata": {},
   "outputs": [
    {
     "data": {
      "text/plain": [
       "28044"
      ]
     },
     "execution_count": 9,
     "metadata": {},
     "output_type": "execute_result"
    }
   ],
   "source": [
    "len(df[(df_cp['version']=='gate_30')&(df_cp['sum_gamerounds']<30)])"
   ]
  },
  {
   "cell_type": "code",
   "execution_count": 10,
   "metadata": {},
   "outputs": [
    {
     "data": {
      "text/plain": [
       "31662"
      ]
     },
     "execution_count": 10,
     "metadata": {},
     "output_type": "execute_result"
    }
   ],
   "source": [
    "len(df[(df_cp['version']=='gate_40')&(df_cp['sum_gamerounds']<40)])"
   ]
  },
  {
   "cell_type": "code",
   "execution_count": 11,
   "metadata": {},
   "outputs": [
    {
     "name": "stdout",
     "output_type": "stream",
     "text": [
      "<class 'pandas.core.frame.DataFrame'>\n",
      "Int64Index: 30482 entries, 1 to 90187\n",
      "Data columns (total 5 columns):\n",
      " #   Column          Non-Null Count  Dtype \n",
      "---  ------          --------------  ----- \n",
      " 0   userid          30482 non-null  int64 \n",
      " 1   version         30482 non-null  object\n",
      " 2   sum_gamerounds  30482 non-null  int64 \n",
      " 3   retention_1     30482 non-null  bool  \n",
      " 4   retention_7     30482 non-null  bool  \n",
      "dtypes: bool(2), int64(2), object(1)\n",
      "memory usage: 1012.1+ KB\n",
      "None\n"
     ]
    },
    {
     "data": {
      "text/html": [
       "<div>\n",
       "<style scoped>\n",
       "    .dataframe tbody tr th:only-of-type {\n",
       "        vertical-align: middle;\n",
       "    }\n",
       "\n",
       "    .dataframe tbody tr th {\n",
       "        vertical-align: top;\n",
       "    }\n",
       "\n",
       "    .dataframe thead th {\n",
       "        text-align: right;\n",
       "    }\n",
       "</style>\n",
       "<table border=\"1\" class=\"dataframe\">\n",
       "  <thead>\n",
       "    <tr style=\"text-align: right;\">\n",
       "      <th></th>\n",
       "      <th>userid</th>\n",
       "      <th>version</th>\n",
       "      <th>sum_gamerounds</th>\n",
       "      <th>retention_1</th>\n",
       "      <th>retention_7</th>\n",
       "    </tr>\n",
       "  </thead>\n",
       "  <tbody>\n",
       "    <tr>\n",
       "      <th>1</th>\n",
       "      <td>337</td>\n",
       "      <td>gate_30</td>\n",
       "      <td>38</td>\n",
       "      <td>True</td>\n",
       "      <td>False</td>\n",
       "    </tr>\n",
       "    <tr>\n",
       "      <th>2</th>\n",
       "      <td>377</td>\n",
       "      <td>gate_40</td>\n",
       "      <td>165</td>\n",
       "      <td>True</td>\n",
       "      <td>False</td>\n",
       "    </tr>\n",
       "    <tr>\n",
       "      <th>4</th>\n",
       "      <td>488</td>\n",
       "      <td>gate_40</td>\n",
       "      <td>179</td>\n",
       "      <td>True</td>\n",
       "      <td>True</td>\n",
       "    </tr>\n",
       "    <tr>\n",
       "      <th>5</th>\n",
       "      <td>540</td>\n",
       "      <td>gate_40</td>\n",
       "      <td>187</td>\n",
       "      <td>True</td>\n",
       "      <td>True</td>\n",
       "    </tr>\n",
       "    <tr>\n",
       "      <th>8</th>\n",
       "      <td>1574</td>\n",
       "      <td>gate_40</td>\n",
       "      <td>108</td>\n",
       "      <td>True</td>\n",
       "      <td>True</td>\n",
       "    </tr>\n",
       "  </tbody>\n",
       "</table>\n",
       "</div>"
      ],
      "text/plain": [
       "   userid  version  sum_gamerounds  retention_1  retention_7\n",
       "1     337  gate_30              38         True        False\n",
       "2     377  gate_40             165         True        False\n",
       "4     488  gate_40             179         True         True\n",
       "5     540  gate_40             187         True         True\n",
       "8    1574  gate_40             108         True         True"
      ]
     },
     "execution_count": 11,
     "metadata": {},
     "output_type": "execute_result"
    }
   ],
   "source": [
    "# 이상치 제거 \n",
    "# sum_gamerounds 값이 0인 값은 이상치 -> 0 이상인 값만 추출 \n",
    "# version 값이 30 인데 sumgamerouns 값이 30 미만인 값은 이상치 -> 제거 \n",
    "# version 값이 40 인데 sumgamerouns 값이 40 미만인 값은 이상치 -> 제거 \n",
    "# iqr 이용하여 이상치 제거 \n",
    "\n",
    "df_cp = df_cp[df_cp['sum_gamerounds'] != 0]\n",
    "# print(df_cp['sum_gamerounds'].describe())\n",
    "# 이상치라 판단되는 max 값 제거 \n",
    "df_cp = df_cp[df_cp['sum_gamerounds']<49854]\n",
    "\n",
    "cond1 = ((df_cp['version']=='gate_30')&(df_cp['sum_gamerounds']>=30))\n",
    "cond2 = ((df_cp['version']=='gate_40')&(df_cp['sum_gamerounds']>=40))\n",
    "\n",
    "df_cp = df_cp[cond1|cond2]\n",
    "\n",
    "# IQR 이용해서 이상치 제거 필요할때 사용  \n",
    "\n",
    "# q1 = df_cp['sum_gamerounds'].quantile(0.25)\n",
    "# q3 = df_cp['sum_gamerounds'].quantile(0.75)\n",
    "# iqr = abs(q1-q3)\n",
    "# upper = iqr+1.5*iqr\n",
    "# lower = iqr-1.5*iqr\n",
    "\n",
    "# print(upper)\n",
    "# print(lower)\n",
    "# df_cp = df_cp[(upper>df_cp['sum_gamerounds'])&(lower<df_cp['sum_gamerounds'])]\n",
    "\n",
    "print(df_cp.info())\n",
    "df_cp.head()\n"
   ]
  },
  {
   "cell_type": "code",
   "execution_count": 12,
   "metadata": {},
   "outputs": [
    {
     "data": {
      "text/plain": [
       "Text(0.5, 1.0, 'Gate at Level 40')"
      ]
     },
     "execution_count": 12,
     "metadata": {},
     "output_type": "execute_result"
    },
    {
     "data": {
      "image/png": "[encoded data removed]",
      "text/plain": [
       "<Figure size 864x576 with 2 Axes>"
      ]
     },
     "metadata": {
      "needs_background": "light"
     },
     "output_type": "display_data"
    }
   ],
   "source": [
    "df_30 = df_cp[df_cp['version'] == 'gate_30']\n",
    "df_40 = df_cp[df_cp['version'] == 'gate_40']\n",
    "\n",
    "fig, axes = plt.subplots(1, 2, figsize=(12, 8))\n",
    "\n",
    "sns.boxplot(y=df_30['sum_gamerounds'],ax=axes[0])\n",
    "sns.boxplot(y=df_40['sum_gamerounds'],ax=axes[1])\n",
    "\n",
    "axes[0].set_title(\"Gate at Level 30\")\n",
    "axes[1].set_title(\"Gate at Level 40\")"
   ]
  },
  {
   "cell_type": "markdown",
   "metadata": {},
   "source": [
    "카이제곱검정을 통해 version(gate_30, gate_40)과 retention_1의 독립성 유무 판단.    \n",
    "** 카이제곱 검정 : 두개의 범주형 변수 독립성 유무 판단 \n",
    "\n",
    "H0 : (귀무가설): version과 retention_1은 독립이다.    \n",
    "H1 : (대립가설): version과 retention_1은 독립이 아니다.(=종속)\n",
    "\n",
    "유의수준 0.05\n",
    "\n"
   ]
  },
  {
   "cell_type": "code",
   "execution_count": 13,
   "metadata": {},
   "outputs": [
    {
     "name": "stdout",
     "output_type": "stream",
     "text": [
      "<class 'pandas.core.frame.DataFrame'>\n",
      "Int64Index: 30482 entries, 1 to 90187\n",
      "Data columns (total 5 columns):\n",
      " #   Column          Non-Null Count  Dtype \n",
      "---  ------          --------------  ----- \n",
      " 0   userid          30482 non-null  int64 \n",
      " 1   version         30482 non-null  object\n",
      " 2   sum_gamerounds  30482 non-null  int64 \n",
      " 3   retention_1     30482 non-null  bool  \n",
      " 4   retention_7     30482 non-null  bool  \n",
      "dtypes: bool(2), int64(2), object(1)\n",
      "memory usage: 1012.1+ KB\n"
     ]
    }
   ],
   "source": [
    "df_cp.info()"
   ]
  },
  {
   "cell_type": "code",
   "execution_count": 14,
   "metadata": {},
   "outputs": [
    {
     "data": {
      "text/plain": [
       "3535"
      ]
     },
     "execution_count": 14,
     "metadata": {},
     "output_type": "execute_result"
    }
   ],
   "source": [
    "len(df_cp[(df_cp['retention_1']==0)&(df_cp['retention_7']==0)])"
   ]
  },
  {
   "cell_type": "code",
   "execution_count": 15,
   "metadata": {},
   "outputs": [
    {
     "name": "stdout",
     "output_type": "stream",
     "text": [
      "카이제곱 통계량 :  42.3002439205212\n",
      "p value 값 :  7.828279587432345e-11\n",
      "자유도 :  1\n",
      "기대 빈도표 :  [[ 3093.65 13561.35]\n",
      " [ 2568.35 11258.65]]\n",
      "귀무가설 기각  version과 retention_1은 종속이다\n"
     ]
    }
   ],
   "source": [
    "from scipy.stats import chisquare, chi2_contingency\n",
    "\n",
    "contingency_table = pd.crosstab(df_cp['version'], df_cp['retention_1'])\n",
    "\n",
    "statistic, pvalue, dof, expected = chi2_contingency(contingency_table)\n",
    "\n",
    "print('카이제곱 통계량 : ',statistic)\n",
    "print('p value 값 : ' , pvalue)\n",
    "print('자유도 : ', dof)\n",
    "print('기대 빈도표 : ',np.round(expected,2))\n",
    "\n",
    "if pvalue>0.05 :\n",
    "    print('귀무가설 채택  version과 retention_1은 독립이다')\n",
    "else:\n",
    "    print('귀무가설 기각  version과 retention_1은 종속이다')"
   ]
  },
  {
   "cell_type": "markdown",
   "metadata": {},
   "source": [
    "카이제곱검정을 통해 version(gate_30, gate_40)과 retention_7의 독립성 유무 판단.    \n",
    "** 카이제곱 검정 : 두개의 범주형 변수 독립성 유무 판단 \n",
    "\n",
    "H0 : (귀무가설): version과 retention_7은 독립이다.    \n",
    "H1 : (대립가설): version과 retention_7은 독립이 아니다.(=종속)\n",
    "\n",
    "유의수준 0.05\n"
   ]
  },
  {
   "cell_type": "code",
   "execution_count": null,
   "metadata": {},
   "outputs": [
    {
     "name": "stdout",
     "output_type": "stream",
     "text": [
      "카이제곱 통계량 :  42.3002439205212\n",
      "p value 값 :  7.026835904955452e-16\n",
      "자유도 :  1\n",
      "기대 빈도표 :  [[8997.92 7657.08]\n",
      " [7470.08 6356.92]]\n",
      "귀무가설 기각  version과 retention_7은 종속이다\n"
     ]
    },
    {
     "data": {
      "text/html": [
       "<div>\n",
       "<style scoped>\n",
       "    .dataframe tbody tr th:only-of-type {\n",
       "        vertical-align: middle;\n",
       "    }\n",
       "\n",
       "    .dataframe tbody tr th {\n",
       "        vertical-align: top;\n",
       "    }\n",
       "\n",
       "    .dataframe thead tr th {\n",
       "        text-align: left;\n",
       "    }\n",
       "\n",
       "    .dataframe thead tr:last-of-type th {\n",
       "        text-align: right;\n",
       "    }\n",
       "</style>\n",
       "<table border=\"1\" class=\"dataframe\">\n",
       "  <thead>\n",
       "    <tr>\n",
       "      <th></th>\n",
       "      <th colspan=\"2\" halign=\"left\">retention_7</th>\n",
       "    </tr>\n",
       "    <tr>\n",
       "      <th>retention_1</th>\n",
       "      <th>False</th>\n",
       "      <th>True</th>\n",
       "    </tr>\n",
       "    <tr>\n",
       "      <th>version</th>\n",
       "      <th></th>\n",
       "      <th></th>\n",
       "    </tr>\n",
       "  </thead>\n",
       "  <tbody>\n",
       "    <tr>\n",
       "      <th>gate_30</th>\n",
       "      <td>3314</td>\n",
       "      <td>13341</td>\n",
       "    </tr>\n",
       "    <tr>\n",
       "      <th>gate_40</th>\n",
       "      <td>2348</td>\n",
       "      <td>11479</td>\n",
       "    </tr>\n",
       "  </tbody>\n",
       "</table>\n",
       "</div>"
      ],
      "text/plain": [
       "            retention_7       \n",
       "retention_1       False   True\n",
       "version                       \n",
       "gate_30            3314  13341\n",
       "gate_40            2348  11479"
      ]
     },
     "execution_count": 32,
     "metadata": {},
     "output_type": "execute_result"
    }
   ],
   "source": [
    "from scipy.stats import chisquare, chi2_contingency\n",
    "\n",
    "contingency_table2 = pd.crosstab(df_cp['version'],df_cp['retention_7'])\n",
    "\n",
    "static, pvalue, dof, expected = chi2_contingency(contingency_table2)\n",
    "\n",
    "print('카이제곱 통계량 : ',statistic)\n",
    "print('p value 값 : ' , pvalue)\n",
    "print('자유도 : ', dof)\n",
    "print('기대 빈도표 : ',np.round(expected,2))\n",
    "\n",
    "\n",
    "if pvalue>0.05 :\n",
    "    print('귀무가설 채택  version과 retention_7은 독립이다')\n",
    "else:\n",
    "    print('귀무가설 기각  version과 retention_7은 종속이다')\n",
    "\n",
    "\n",
    "df_n_cp = df_cp[['version','retention_1','retention_7']]\n",
    "# df_n_cp\n",
    "df_n_cp.pivot_table(index='version',columns='retention_1',aggfunc='count')\n"
   ]
  },
  {
   "cell_type": "code",
   "execution_count": 33,
   "metadata": {},
   "outputs": [
    {
     "data": {
      "text/html": [
       "<div>\n",
       "<style scoped>\n",
       "    .dataframe tbody tr th:only-of-type {\n",
       "        vertical-align: middle;\n",
       "    }\n",
       "\n",
       "    .dataframe tbody tr th {\n",
       "        vertical-align: top;\n",
       "    }\n",
       "\n",
       "    .dataframe thead tr th {\n",
       "        text-align: left;\n",
       "    }\n",
       "\n",
       "    .dataframe thead tr:last-of-type th {\n",
       "        text-align: right;\n",
       "    }\n",
       "</style>\n",
       "<table border=\"1\" class=\"dataframe\">\n",
       "  <thead>\n",
       "    <tr>\n",
       "      <th></th>\n",
       "      <th colspan=\"2\" halign=\"left\">retention_1</th>\n",
       "    </tr>\n",
       "    <tr>\n",
       "      <th>retention_7</th>\n",
       "      <th>False</th>\n",
       "      <th>True</th>\n",
       "    </tr>\n",
       "    <tr>\n",
       "      <th>version</th>\n",
       "      <th></th>\n",
       "      <th></th>\n",
       "    </tr>\n",
       "  </thead>\n",
       "  <tbody>\n",
       "    <tr>\n",
       "      <th>gate_30</th>\n",
       "      <td>9348</td>\n",
       "      <td>7307</td>\n",
       "    </tr>\n",
       "    <tr>\n",
       "      <th>gate_40</th>\n",
       "      <td>7120</td>\n",
       "      <td>6707</td>\n",
       "    </tr>\n",
       "  </tbody>\n",
       "</table>\n",
       "</div>"
      ],
      "text/plain": [
       "            retention_1      \n",
       "retention_7       False  True\n",
       "version                      \n",
       "gate_30            9348  7307\n",
       "gate_40            7120  6707"
      ]
     },
     "execution_count": 33,
     "metadata": {},
     "output_type": "execute_result"
    }
   ],
   "source": [
    "df_n_cp.pivot_table(index='version',columns='retention_7',aggfunc='count')"
   ]
  },
  {
   "cell_type": "code",
   "execution_count": null,
   "metadata": {},
   "outputs": [
    {
     "data": {
      "image/png": "[encoded data removed]",
      "text/plain": [
       "<Figure size 1008x432 with 2 Axes>"
      ]
     },
     "metadata": {
      "needs_background": "light"
     },
     "output_type": "display_data"
    }
   ],
   "source": [
    "\n",
    "\n",
    "import pandas as pd\n",
    "import seaborn as sns\n",
    "import matplotlib.pyplot as plt\n",
    "\n",
    "# 1. version별 retention_1 비율 계산\n",
    "ret1_table = pd.crosstab(df_cp['version'], df_cp['retention_1'], normalize=\"index\") * 100\n",
    "ret1_table = ret1_table.rename(columns={0: \"Not Retained (Day 1)\", 1: \"Retained (Day 1)\"})\n",
    "\n",
    "# 2. version별 retention_7 비율 계산\n",
    "ret7_table = pd.crosstab(df_cp['version'], df_cp['retention_7'], normalize=\"index\") * 100\n",
    "ret7_table = ret7_table.rename(columns={0: \"Not Retained (Day 7)\", 1: \"Retained (Day 7)\"})\n",
    "\n",
    "# 3. 시각화를 위해 데이터 정리\n",
    "ret1_table[\"Version\"] = ret1_table.index\n",
    "ret7_table[\"Version\"] = ret7_table.index\n",
    "\n",
    "# 4. 누적 막대 그래프 그리기\n",
    "fig, axes = plt.subplots(1, 2, figsize=(14, 6))\n",
    "\n",
    "# 🔹 함수: 막대에 퍼센트 값 표시\n",
    "def add_labels(ax, df):\n",
    "    for container in ax.containers:\n",
    "        ax.bar_label(container, fmt=\"%.1f%%\", label_type=\"center\", fontsize=12, color=\"white\", weight=\"bold\")\n",
    "\n",
    "# Day 1 Retention (누적 막대 그래프)\n",
    "ax1 = ret1_table.set_index(\"Version\").plot(kind=\"bar\", stacked=True, ax=axes[0], colormap=\"RdYlBu\")\n",
    "axes[0].set_title(\"Retention Rate on Day 1\")\n",
    "axes[0].set_ylabel(\"Percentage (%)\")\n",
    "axes[0].set_xlabel(\"Version\")\n",
    "axes[0].legend(title=\"Retention\")\n",
    "add_labels(axes[0], ret1_table)\n",
    "\n",
    "# Day 7 Retention (누적 막대 그래프)\n",
    "ax2 = ret7_table.set_index(\"Version\").plot(kind=\"bar\", stacked=True, ax=axes[1], colormap=\"RdYlBu\")\n",
    "axes[1].set_title(\"Retention Rate on Day 7\")\n",
    "axes[1].set_ylabel(\"Percentage (%)\")\n",
    "axes[1].set_xlabel(\"Version\")\n",
    "axes[1].legend(title=\"Retention\")\n",
    "add_labels(axes[1], ret7_table)\n",
    "\n",
    "plt.tight_layout()\n",
    "plt.show()"
   ]
  },
  {
   "cell_type": "code",
   "execution_count": 18,
   "metadata": {},
   "outputs": [
    {
     "data": {
      "text/plain": [
       "11887"
      ]
     },
     "execution_count": 18,
     "metadata": {},
     "output_type": "execute_result"
    }
   ],
   "source": [
    "len(df_cp[(df_cp['retention_1']==1)&(df_cp['retention_7']==1)])"
   ]
  },
  {
   "cell_type": "code",
   "execution_count": 19,
   "metadata": {},
   "outputs": [
    {
     "data": {
      "text/plain": [
       "3535"
      ]
     },
     "execution_count": 19,
     "metadata": {},
     "output_type": "execute_result"
    }
   ],
   "source": [
    "len(df_cp[(df_cp['retention_1']==0)&(df_cp['retention_7']==0)])"
   ]
  },
  {
   "cell_type": "code",
   "execution_count": 21,
   "metadata": {},
   "outputs": [
    {
     "data": {
      "text/plain": [
       "2127"
      ]
     },
     "execution_count": 21,
     "metadata": {},
     "output_type": "execute_result"
    }
   ],
   "source": [
    "len(df_cp[(df_cp['retention_1']==0)&(df_cp['retention_7']==1)])"
   ]
  },
  {
   "cell_type": "code",
   "execution_count": null,
   "metadata": {},
   "outputs": [
    {
     "name": "stdout",
     "output_type": "stream",
     "text": [
      "38.99678498786169 42.428318351814184 6.977888589987534 11.597008070336592\n"
     ]
    },
    {
     "data": {
      "image/png": "[encoded data removed]",
      "text/plain": [
       "<Figure size 576x576 with 1 Axes>"
      ]
     },
     "metadata": {},
     "output_type": "display_data"
    }
   ],
   "source": [
    "## retention 그룹별 비율 \n",
    "tot = len(df_cp)\n",
    "\n",
    "\n",
    "rt_1T_7T = (len(df_cp[(df_cp['retention_1']==1)&(df_cp['retention_7']==1)])/tot)*100\n",
    "rt_1T_7F = (len(df_cp[(df_cp['retention_1']==1)&(df_cp['retention_7']==0)])/tot)*100\n",
    "rt_1F_7T = (len(df_cp[(df_cp['retention_1']==0)&(df_cp['retention_7']==1)])/tot)*100\n",
    "rt_1F_7F = (len(df_cp[(df_cp['retention_1']==0)&(df_cp['retention_7']==0)])/tot)*100\n",
    "\n",
    "print(rt_1T_7T,rt_1T_7F,rt_1F_7T,rt_1F_7F)\n",
    "# 1. 데이터 준비\n",
    "labels = [\"1일 후 O, 7일 후 O\",  \"1일 후 O, 7일 후 X\", \"1일 후 X, 7일 후 O\",\"1일 후 X, 7일 후 X\"]\n",
    "sizes = [rt_1T_7T, rt_1T_7F, rt_1F_7T, rt_1F_7F]  # 퍼센트 값\n",
    "colors = [\"#66c2a5\", \"#fc8d62\", \"#8da0cb\", \"#e78ac3\"]  # 색상 지정\n",
    "# explode = (0.1, 0, 0, 0)  # 첫 번째 조각 강조\n",
    "\n",
    "# 2. 파이 차트 그리기\n",
    "plt.rc('font', family='Malgun gothic')\n",
    "plt.figure(figsize=(8, 8))\n",
    "plt.pie(sizes, labels=labels, autopct=\"%.1f%%\", colors=colors, startangle=140, shadow=True)\n",
    "plt.title(\"Retention Transition (잔존율 변화)\",fontweight=\"bold\", color=\"orange\")\n",
    "plt.show()\n",
    "\n"
   ]
  },
  {
   "cell_type": "code",
   "execution_count": null,
   "metadata": {},
   "outputs": [],
   "source": []
  }
 ],
 "metadata": {
  "kernelspec": {
   "display_name": "base",
   "language": "python",
   "name": "python3"
  },
  "language_info": {
   "codemirror_mode": {
    "name": "ipython",
    "version": 3
   },
   "file_extension": ".py",
   "mimetype": "text/x-python",
   "name": "python",
   "nbconvert_exporter": "python",
   "pygments_lexer": "ipython3",
   "version": "3.9.12"
  }
 },
 "nbformat": 4,
 "nbformat_minor": 2
}
